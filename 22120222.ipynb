{
 "cells": [
  {
   "cell_type": "markdown",
   "id": "06c72137",
   "metadata": {},
   "source": [
    "### Bài tập tính điểm cộng lần 2: Đơn hình theo phương pháp big-M\n",
    "\n",
    "- MSSV: 22120222\n",
    "- Họ và tên: Võ Văn Nam"
   ]
  },
  {
   "cell_type": "markdown",
   "id": "1f538ea7",
   "metadata": {},
   "source": [
    "**Nội dung bài tập**\n",
    "\n",
    "SV tham khảo yêu cầu đề bài cụ thể trong slide 3: Cho hệ ràng buộc gồm m điều kiện (với m = 2, 3 hoặc 4) của bài toán QHTT chính tắc n <= 10 biến cùng hệ số của hàm mục tiêu dạng max/min tất cả các số nhập vào đều là số nguyên có trị tuyệt đối không vượt quá 10.\n",
    "\n",
    "Yêu cầu: Hãy in ra bảng đơn hình xuất phát theo phương pháp big-M với số biến bổ sung là ít nhất, trong đó chọn: M=1000."
   ]
  },
  {
   "cell_type": "code",
   "execution_count": null,
   "id": "04b4dc39",
   "metadata": {},
   "outputs": [
    {
     "name": "stdout",
     "output_type": "stream",
     "text": [
      "x4 -1000 3 1 -1 2 1 0\n",
      "x5 -1000 5 3 4 -2 0 1\n",
      " 8000 3999 2998 -3 2000 2000\n"
     ]
    }
   ],
   "source": [
    "'''\n",
    "Cho hệ ràng buộc gồm m điều kiện (với m = 2, 3 hoặc 4) của bài toán QHTT chính tắc n <= 10 biến \n",
    "cùng hệ số của hàm mục tiêu dạng max/min tất cả các số nhập vào đều là số nguyên có trị tuyệt đối không vượt quá 10.\n",
    "Yêu cầu: Hãy in ra bảng đơn hình xuất phát theo phương pháp big-M với số biến bổ sung là ít nhất, trong đó chọn: M=1000.\n",
    "\n",
    "Input: \n",
    "1 2 3 // hệ số của hàm mục tiêu\n",
    "1 -1 2 = 3 (dấu này có thể là >=, <= hoặc = ).\n",
    "3 4 -2 = 5\n",
    "Output: \n",
    "x4  -1000   3   1   -1  2   1   0\n",
    "x5  -1000   5   3   4   -1  0   1\n",
    "        -8000   -4001   -3002   -3   0   0\n",
    "'''\n"
   ]
  }
 ],
 "metadata": {
  "kernelspec": {
   "display_name": "Python 3",
   "language": "python",
   "name": "python3"
  },
  "language_info": {
   "codemirror_mode": {
    "name": "ipython",
    "version": 3
   },
   "file_extension": ".py",
   "mimetype": "text/x-python",
   "name": "python",
   "nbconvert_exporter": "python",
   "pygments_lexer": "ipython3",
   "version": "3.12.0"
  }
 },
 "nbformat": 4,
 "nbformat_minor": 5
}
